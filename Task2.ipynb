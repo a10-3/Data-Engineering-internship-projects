{
 "cells": [
  {
   "cell_type": "code",
   "execution_count": 2,
   "id": "3fd4be84",
   "metadata": {},
   "outputs": [
    {
     "name": "stdout",
     "output_type": "stream",
     "text": [
      "Available columns: ['Train_No', 'Train_Name', 'Source_Station_Name', 'Destination_Station_Name', 'days']\n"
     ]
    }
   ],
   "source": [
    "# Step 1: Import Required Libraries\n",
    "import pandas as pd\n",
    "\n",
    "# Step 2: Load Excel File\n",
    "df = pd.read_excel('Railway_info.csv.xlsx')  # Make sure this file is in the same folder\n",
    "\n",
    "# Step 3: View Column Names\n",
    "print(\"Available columns:\", df.columns.tolist())\n"
   ]
  },
  {
   "cell_type": "code",
   "execution_count": 3,
   "id": "79a29103",
   "metadata": {},
   "outputs": [
    {
     "name": "stdout",
     "output_type": "stream",
     "text": [
      "['Train_No', 'Train_Name', 'Source_Station_Name', 'Destination_Station_Name', 'days']\n"
     ]
    }
   ],
   "source": [
    "# Clean column names to avoid KeyError\n",
    "df.columns = df.columns.str.strip()\n",
    "\n",
    "# Print to confirm\n",
    "print(df.columns.tolist())"
   ]
  },
  {
   "cell_type": "code",
   "execution_count": 4,
   "id": "ef1b8a56",
   "metadata": {},
   "outputs": [
    {
     "name": "stdout",
     "output_type": "stream",
     "text": [
      "Trains running on Saturday:\n",
      "     Train_No    Train_Name Source_Station_Name Destination_Station_Name\n",
      "0        107  SWV-MAO-VLNK     SAWANTWADI ROAD              MADGOAN JN.\n",
      "4        401  BSB BHARATDA          AURANGABAD             VARANASI JN.\n",
      "21      1196  NGP-KRMI SPL      NAGPUR JN.(CR)                  KARMALI\n",
      "28      1706   JBP-BDTS SF            JABALPUR          BANDRA TERMINUS\n",
      "45      2834  SRC-RJT SF A     SANTRAGACHI JN.                   RAJKOT\n",
      "\n",
      "Trains starting from DELHI:\n",
      " Empty DataFrame\n",
      "Columns: [Train_No, Train_Name, Source_Station_Name, Destination_Station_Name]\n",
      "Index: []\n"
     ]
    }
   ],
   "source": [
    "# Filter trains that operate only on Saturdays\n",
    "Saturday_trains = df[df['days'] == 'Saturday']\n",
    "print(\"Trains running on Saturday:\\n\", Saturday_trains[['Train_No', 'Train_Name', 'Source_Station_Name', 'Destination_Station_Name']].head())\n",
    "\n",
    "# Extract trains starting from a specific station, e.g., 'DELHI'\n",
    "from_delhi = df[df['Source_Station_Name'].str.upper() == 'DELHI']\n",
    "print(\"\\nTrains starting from DELHI:\\n\", from_delhi[['Train_No', 'Train_Name', 'Source_Station_Name', 'Destination_Station_Name']].head())"
   ]
  },
  {
   "cell_type": "code",
   "execution_count": 5,
   "id": "35d73e71",
   "metadata": {},
   "outputs": [
    {
     "name": "stdout",
     "output_type": "stream",
     "text": [
      "    Source_Station_Name  Train_Count\n",
      "224          CST-MUMBAI          513\n",
      "773             SEALDAH          372\n",
      "201       CHENNAI BEACH          339\n",
      "373          HOWRAH JN.          338\n",
      "426           KALYAN JN          285\n"
     ]
    }
   ],
   "source": [
    "source_station_counts = df.groupby('Source_Station_Name').size().reset_index(name='Train_Count')\n",
    "print(source_station_counts.sort_values(by='Train_Count', ascending=False).head())"
   ]
  },
  {
   "cell_type": "code",
   "execution_count": 6,
   "id": "a3fff2ba",
   "metadata": {},
   "outputs": [
    {
     "name": "stdout",
     "output_type": "stream",
     "text": [
      "    Source_Station_Name  Avg_Trains_Per_Day\n",
      "920      YESVANTPUR JN.                 1.0\n",
      "0          ABHANPUR JN.                 1.0\n",
      "1                ABOHAR                 1.0\n",
      "2              ABU ROAD                 1.0\n",
      "3          ACHHNERA JN.                 1.0\n"
     ]
    }
   ],
   "source": [
    "# Calculate average number of operating days for trains from each source station\n",
    "df['Days_Operating'] = df['days'].apply(lambda x: len(str(x).split()))\n",
    "avg_trains_per_day = df.groupby('Source_Station_Name')['Days_Operating'].mean().reset_index(name='Avg_Trains_Per_Day')\n",
    "print(avg_trains_per_day.sort_values(by='Avg_Trains_Per_Day', ascending=False).head())"
   ]
  },
  {
   "cell_type": "code",
   "execution_count": 7,
   "id": "36a5ada8",
   "metadata": {},
   "outputs": [
    {
     "name": "stdout",
     "output_type": "stream",
     "text": [
      "Day_Category\n",
      "Weekday    7087\n",
      "Weekend    2873\n",
      "Unknown    1153\n",
      "Name: count, dtype: int64\n"
     ]
    },
    {
     "data": {
      "text/html": [
       "<div>\n",
       "<style scoped>\n",
       "    .dataframe tbody tr th:only-of-type {\n",
       "        vertical-align: middle;\n",
       "    }\n",
       "\n",
       "    .dataframe tbody tr th {\n",
       "        vertical-align: top;\n",
       "    }\n",
       "\n",
       "    .dataframe thead th {\n",
       "        text-align: right;\n",
       "    }\n",
       "</style>\n",
       "<table border=\"1\" class=\"dataframe\">\n",
       "  <thead>\n",
       "    <tr style=\"text-align: right;\">\n",
       "      <th></th>\n",
       "      <th>Train_No</th>\n",
       "      <th>Train_Name</th>\n",
       "      <th>days</th>\n",
       "      <th>Day_Category</th>\n",
       "    </tr>\n",
       "  </thead>\n",
       "  <tbody>\n",
       "    <tr>\n",
       "      <th>0</th>\n",
       "      <td>107</td>\n",
       "      <td>SWV-MAO-VLNK</td>\n",
       "      <td>Saturday</td>\n",
       "      <td>Weekend</td>\n",
       "    </tr>\n",
       "    <tr>\n",
       "      <th>1</th>\n",
       "      <td>108</td>\n",
       "      <td>VLNK-MAO-SWV</td>\n",
       "      <td>Friday</td>\n",
       "      <td>Weekday</td>\n",
       "    </tr>\n",
       "    <tr>\n",
       "      <th>2</th>\n",
       "      <td>128</td>\n",
       "      <td>MAO-KOP SPEC</td>\n",
       "      <td>Friday</td>\n",
       "      <td>Weekday</td>\n",
       "    </tr>\n",
       "    <tr>\n",
       "      <th>3</th>\n",
       "      <td>290</td>\n",
       "      <td>PALACE ON WH</td>\n",
       "      <td>Wednesday</td>\n",
       "      <td>Weekday</td>\n",
       "    </tr>\n",
       "    <tr>\n",
       "      <th>4</th>\n",
       "      <td>401</td>\n",
       "      <td>BSB BHARATDA</td>\n",
       "      <td>Saturday</td>\n",
       "      <td>Weekend</td>\n",
       "    </tr>\n",
       "  </tbody>\n",
       "</table>\n",
       "</div>"
      ],
      "text/plain": [
       "   Train_No    Train_Name       days Day_Category\n",
       "0       107  SWV-MAO-VLNK   Saturday      Weekend\n",
       "1       108  VLNK-MAO-SWV     Friday      Weekday\n",
       "2       128  MAO-KOP SPEC     Friday      Weekday\n",
       "3       290  PALACE ON WH  Wednesday      Weekday\n",
       "4       401  BSB BHARATDA   Saturday      Weekend"
      ]
     },
     "execution_count": 7,
     "metadata": {},
     "output_type": "execute_result"
    }
   ],
   "source": [
    "# Define weekday and weekend sets\n",
    "weekdays = {'Monday', 'Tuesday', 'Wednesday', 'Thursday', 'Friday'}\n",
    "weekends = {'Saturday', 'Sunday'}\n",
    "\n",
    "# Function to categorize day types\n",
    "def categorize_days(day_string):\n",
    "    if pd.isna(day_string):\n",
    "        return 'Unknown'\n",
    "    day_set = set(day_string.strip().split())\n",
    "    if day_set & weekends and not day_set & weekdays:\n",
    "        return 'Weekend'\n",
    "    elif day_set & weekdays and not day_set & weekends:\n",
    "        return 'Weekday'\n",
    "    elif day_set & weekdays and day_set & weekends:\n",
    "        return 'Both'\n",
    "    else:\n",
    "        return 'Unknown'\n",
    "\n",
    "# Apply transformation\n",
    "df['Day_Category'] = df['days'].apply(categorize_days)\n",
    "\n",
    "# Show category counts\n",
    "print(df['Day_Category'].value_counts())\n",
    "\n",
    "# Show sample results\n",
    "df[['Train_No', 'Train_Name', 'days', 'Day_Category']].head()"
   ]
  }
 ],
 "metadata": {
  "kernelspec": {
   "display_name": "Python 3",
   "language": "python",
   "name": "python3"
  },
  "language_info": {
   "codemirror_mode": {
    "name": "ipython",
    "version": 3
   },
   "file_extension": ".py",
   "mimetype": "text/x-python",
   "name": "python",
   "nbconvert_exporter": "python",
   "pygments_lexer": "ipython3",
   "version": "3.13.3"
  }
 },
 "nbformat": 4,
 "nbformat_minor": 5
}
