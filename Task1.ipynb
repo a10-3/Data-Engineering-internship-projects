{
 "cells": [
  {
   "cell_type": "code",
   "execution_count": 5,
   "id": "1359e22d",
   "metadata": {},
   "outputs": [
    {
     "name": "stdout",
     "output_type": "stream",
     "text": [
      "First 10 rows of the dataset:\n",
      "   Train_No    Train_Name           Source_Station_Name  \\\n",
      "0       107  SWV-MAO-VLNK               SAWANTWADI ROAD   \n",
      "1       108  VLNK-MAO-SWV                   MADGOAN JN.   \n",
      "2       128  MAO-KOP SPEC                   MADGOAN JN.   \n",
      "3       290  PALACE ON WH             DELHI-SAFDAR JANG   \n",
      "4       401  BSB BHARATDA                    AURANGABAD   \n",
      "5       421  LKO-SVDK FTR                   LUCKNOW JN.   \n",
      "6       422  SVDK-LKO FTR  SHRI MATA VAISHNO DEVI KATRA   \n",
      "7       477  FTR TRAIN NO                         SIRSA   \n",
      "8       502  RJPB-UMB FTR        RAJENDRANAGAR TERMINAL   \n",
      "9       504  PNBE-BTI FTR                     PATNA JN.   \n",
      "\n",
      "             Destination_Station_Name       days  \n",
      "0                         MADGOAN JN.   Saturday  \n",
      "1                     SAWANTWADI ROAD     Friday  \n",
      "2  CHHATRAPATI SHAHU MAHARAJ TERMINUS     Friday  \n",
      "3                   DELHI-SAFDAR JANG  Wednesday  \n",
      "4                        VARANASI JN.   Saturday  \n",
      "5        SHRI MATA VAISHNO DEVI KATRA    Tuesday  \n",
      "6                         LUCKNOW JN.     Monday  \n",
      "7                               SIRSA     Sunday  \n",
      "8                     AMBALA CANTT JN     Monday  \n",
      "9                         BATHINDA JN  Wednesday  \n",
      "\n",
      "Data types and missing values:\n",
      "<class 'pandas.core.frame.DataFrame'>\n",
      "RangeIndex: 11113 entries, 0 to 11112\n",
      "Data columns (total 5 columns):\n",
      " #   Column                    Non-Null Count  Dtype \n",
      "---  ------                    --------------  ----- \n",
      " 0   Train_No                  11113 non-null  int64 \n",
      " 1   Train_Name                11113 non-null  object\n",
      " 2   Source_Station_Name       11113 non-null  object\n",
      " 3   Destination_Station_Name  11113 non-null  object\n",
      " 4   days                      11113 non-null  object\n",
      "dtypes: int64(1), object(4)\n",
      "memory usage: 434.2+ KB\n",
      "None\n",
      "\n",
      "Missing value counts:\n",
      "Train_No                    0\n",
      "Train_Name                  0\n",
      "Source_Station_Name         0\n",
      "Destination_Station_Name    0\n",
      "days                        0\n",
      "dtype: int64\n"
     ]
    }
   ],
   "source": [
    "import pandas as pd\n",
    "\n",
    "# Load dataset\n",
    "df = pd.read_excel(\"Railway_info.csv.xlsx\")\n",
    "\n",
    "# Display the first 10 rows\n",
    "print(\"First 10 rows of the dataset:\")\n",
    "print(df.head(10))\n",
    "\n",
    "# Check data structure and missing values\n",
    "print(\"\\nData types and missing values:\")\n",
    "print(df.info())\n",
    "print(\"\\nMissing value counts:\")\n",
    "print(df.isnull().sum())\n"
   ]
  },
  {
   "cell_type": "code",
   "execution_count": 6,
   "id": "c048d629",
   "metadata": {},
   "outputs": [
    {
     "name": "stdout",
     "output_type": "stream",
     "text": [
      "Total trains: 11113\n",
      "Unique source stations: 921\n",
      "Unique destination stations: 924\n",
      "Most common source station: CST-MUMBAI\n",
      "Most common destination station: CST-MUMBAI\n"
     ]
    }
   ],
   "source": [
    "# Total number of trains\n",
    "num_trains = df.shape[0]\n",
    "\n",
    "# Unique source and destination stations\n",
    "unique_sources = df['Source_Station_Name'].nunique()\n",
    "unique_destinations = df['Destination_Station_Name'].nunique()\n",
    "\n",
    "# Most common source and destination stations\n",
    "most_common_source = df['Source_Station_Name'].mode()[0]\n",
    "most_common_destination = df['Destination_Station_Name'].mode()[0]\n",
    "\n",
    "print(f\"Total trains: {num_trains}\")\n",
    "print(f\"Unique source stations: {unique_sources}\")\n",
    "print(f\"Unique destination stations: {unique_destinations}\")\n",
    "print(f\"Most common source station: {most_common_source}\")\n",
    "print(f\"Most common destination station: {most_common_destination}\")\n"
   ]
  },
  {
   "cell_type": "code",
   "execution_count": 13,
   "id": "7de77c2e",
   "metadata": {},
   "outputs": [
    {
     "name": "stdout",
     "output_type": "stream",
     "text": [
      "Missing values per column:\n",
      "Train_No                    0\n",
      "Train_Name                  0\n",
      "Source_Station_Name         0\n",
      "Destination_Station_Name    0\n",
      "days                        0\n",
      "dtype: int64\n"
     ]
    }
   ],
   "source": [
    "# Check missing values again\n",
    "print(\"Missing values per column:\")\n",
    "print(df.isnull().sum())\n",
    "\n",
    "# Option 1: Drop rows with critical missing values\n",
    "df_cleaned = df.dropna(subset=['Source_Station_Name', 'Destination_Station_Name'])\n",
    "\n",
    "# Option 2: Fill non-critical missing values with placeholders\n",
    "df_cleaned = df_cleaned.fillna(\"Unknown\")\n"
   ]
  },
  {
   "cell_type": "code",
   "execution_count": 14,
   "id": "e96eeeda",
   "metadata": {},
   "outputs": [
    {
     "name": "stdout",
     "output_type": "stream",
     "text": [
      "\n",
      "Sample cleaned station names:\n",
      "            Source_Station_Name            Destination_Station_Name\n",
      "0               SAWANTWADI ROAD                         MADGOAN JN.\n",
      "1                   MADGOAN JN.                     SAWANTWADI ROAD\n",
      "2                   MADGOAN JN.  CHHATRAPATI SHAHU MAHARAJ TERMINUS\n",
      "3             DELHI-SAFDAR JANG                   DELHI-SAFDAR JANG\n",
      "4                    AURANGABAD                        VARANASI JN.\n",
      "5                   LUCKNOW JN.        SHRI MATA VAISHNO DEVI KATRA\n",
      "6  SHRI MATA VAISHNO DEVI KATRA                         LUCKNOW JN.\n",
      "7                         SIRSA                               SIRSA\n",
      "8        RAJENDRANAGAR TERMINAL                     AMBALA CANTT JN\n",
      "9                     PATNA JN.                         BATHINDA JN\n"
     ]
    }
   ],
   "source": [
    "# Standardize station names to uppercase\n",
    "df_cleaned['Source_Station_Name'] = df_cleaned['Source_Station_Name'].str.upper()\n",
    "df_cleaned['Destination_Station_Name'] = df_cleaned['Destination_Station_Name'].str.upper()\n",
    "\n",
    "# ✅ Display updated values\n",
    "print(\"\\nSample cleaned station names:\")\n",
    "print(df_cleaned[['Source_Station_Name', 'Destination_Station_Name']].head(10))\n"
   ]
  }
 ],
 "metadata": {
  "kernelspec": {
   "display_name": "Python 3",
   "language": "python",
   "name": "python3"
  },
  "language_info": {
   "codemirror_mode": {
    "name": "ipython",
    "version": 3
   },
   "file_extension": ".py",
   "mimetype": "text/x-python",
   "name": "python",
   "nbconvert_exporter": "python",
   "pygments_lexer": "ipython3",
   "version": "3.13.3"
  }
 },
 "nbformat": 4,
 "nbformat_minor": 5
}
